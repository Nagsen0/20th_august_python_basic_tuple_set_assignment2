{
 "cells": [
  {
   "cell_type": "markdown",
   "id": "3b80face-4b6b-4cd2-830d-b6a104fd44fa",
   "metadata": {},
   "source": [
    "# Tuple Based Practice Problem:"
   ]
  },
  {
   "cell_type": "markdown",
   "id": "5fcfa217-cc21-45f9-a7db-55c43d15fc73",
   "metadata": {},
   "source": [
    "1. Create a tuple with integers from 1 to 5."
   ]
  },
  {
   "cell_type": "code",
   "execution_count": 4,
   "id": "f9acaa95-ac57-41ef-82c5-8e145ebcea91",
   "metadata": {},
   "outputs": [
    {
     "name": "stdout",
     "output_type": "stream",
     "text": [
      "(1, 2, 3, 4, 5)\n"
     ]
    }
   ],
   "source": [
    "t=(1,2,3,4,5)\n",
    "\n",
    "print(t)"
   ]
  },
  {
   "cell_type": "markdown",
   "id": "e7547b01-090d-4567-8510-eb2b09a19527",
   "metadata": {},
   "source": [
    "2. Access the third element of a tuple."
   ]
  },
  {
   "cell_type": "code",
   "execution_count": 5,
   "id": "cdc57c47-bd2b-45d6-98d7-c37ef3a5417c",
   "metadata": {},
   "outputs": [
    {
     "name": "stdout",
     "output_type": "stream",
     "text": [
      "2\n"
     ]
    }
   ],
   "source": [
    "tuple1=('nag','sen',1,2,3,4,4,4,'data')\n",
    "\n",
    "# Access third element\n",
    "\n",
    "print(tuple1[3])"
   ]
  },
  {
   "cell_type": "markdown",
   "id": "8c4463c2-bf51-4a70-89e7-cd290b5e4ad6",
   "metadata": {},
   "source": [
    "3. Find the length of a tuple without using the 'len()' function."
   ]
  },
  {
   "cell_type": "code",
   "execution_count": 8,
   "id": "a49d8cdc-9a36-4a33-bdc0-8456ddf4c499",
   "metadata": {},
   "outputs": [
    {
     "name": "stdout",
     "output_type": "stream",
     "text": [
      "The length of tuple is:\n",
      "8\n"
     ]
    }
   ],
   "source": [
    "def find_tuple_length(tuple2):\n",
    "    length=0\n",
    "    \n",
    "    for i in tuple2:\n",
    "        length+=1\n",
    "    return length\n",
    "\n",
    "tuple2=(2,3,4,5,6,'nag','sen','data')\n",
    "length=find_tuple_length(tuple2)\n",
    "print('The length of tuple is:')\n",
    "print(length)"
   ]
  },
  {
   "cell_type": "markdown",
   "id": "5e2c4d37-0639-4537-960b-2b52250242bf",
   "metadata": {},
   "source": [
    "4. Count the occurrences of an element in a tuple."
   ]
  },
  {
   "cell_type": "code",
   "execution_count": 10,
   "id": "b6f89f1c-3661-472c-8a21-f5c4c60ea716",
   "metadata": {},
   "outputs": [
    {
     "name": "stdout",
     "output_type": "stream",
     "text": [
      "The occurrences of an element is:\n"
     ]
    },
    {
     "data": {
      "text/plain": [
       "5"
      ]
     },
     "execution_count": 10,
     "metadata": {},
     "output_type": "execute_result"
    }
   ],
   "source": [
    "tuple3=(1,2,3,7,8,9,4,5,4,3,5,7,8,4,4,44,4)\n",
    "print('The occurrences of an element is:')\n",
    "tuple3.count(4)"
   ]
  },
  {
   "cell_type": "markdown",
   "id": "93a7234e-157f-45af-ac0a-88d40d0c3eea",
   "metadata": {},
   "source": [
    "5. Find the index of the first occurrence of an element in a tuple."
   ]
  },
  {
   "cell_type": "code",
   "execution_count": 16,
   "id": "610a2bdd-fc89-40f7-92b8-c174cdb30d7e",
   "metadata": {},
   "outputs": [
    {
     "name": "stdout",
     "output_type": "stream",
     "text": [
      "The index of the first occurrence of element is:\n",
      "6\n"
     ]
    }
   ],
   "source": [
    "tuple4=(1,2,3,7,8,9,4,5,4,3,5,7,8,4,4,44,2,3,)\n",
    " \n",
    "element_to_find=4\n",
    "index=tuple4.index(element_to_find)\n",
    "print('The index of the first occurrence of element is:')\n",
    "print(index)"
   ]
  },
  {
   "cell_type": "markdown",
   "id": "a3de7722-f563-46e0-9f2c-46b29875ce9a",
   "metadata": {},
   "source": [
    "6. Check if an element exists in a tuple."
   ]
  },
  {
   "cell_type": "code",
   "execution_count": 28,
   "id": "daec7e53-7d55-4adf-91de-d7ca6b4269b5",
   "metadata": {},
   "outputs": [
    {
     "name": "stdout",
     "output_type": "stream",
     "text": [
      "The element 'pro' present in the tuple.\n"
     ]
    }
   ],
   "source": [
    "tuple5=(1,2,3,4,'full','stack','pro','ai')\n",
    "\n",
    "element='pro'\n",
    "for i in tuple5:\n",
    "    if element in tuple5:\n",
    "        print(f\"The element '{element}' present in the tuple.\")\n",
    "        break\n",
    "        \n",
    "    else:\n",
    "        print(f\"The element '{element}' not present in the tuple.\")\n",
    "        break"
   ]
  },
  {
   "cell_type": "markdown",
   "id": "83401948-d7dd-48fd-8548-bff5923f733d",
   "metadata": {},
   "source": [
    "7. Convert a list to a tuple."
   ]
  },
  {
   "cell_type": "code",
   "execution_count": 29,
   "id": "c44aa6e0-5565-4e53-b2bb-89a0cb4ef5e8",
   "metadata": {},
   "outputs": [
    {
     "data": {
      "text/plain": [
       "(1, 2, 3, 4, 5, 'nag', 'sen', 'data', 'science')"
      ]
     },
     "execution_count": 29,
     "metadata": {},
     "output_type": "execute_result"
    }
   ],
   "source": [
    "lst=[1,2,3,4,5,'nag','sen','data','science']\n",
    "\n",
    "tuple(lst)"
   ]
  },
  {
   "cell_type": "markdown",
   "id": "909c9e9c-a2a4-4d34-a278-9c828ff70307",
   "metadata": {},
   "source": [
    "8. Convert a tuple to a list."
   ]
  },
  {
   "cell_type": "code",
   "execution_count": 1,
   "id": "dfdf392d-f7dc-4179-9492-47953be58d62",
   "metadata": {},
   "outputs": [
    {
     "data": {
      "text/plain": [
       "[1, 5, 4, 7, 9, 8, 3, 'pro']"
      ]
     },
     "execution_count": 1,
     "metadata": {},
     "output_type": "execute_result"
    }
   ],
   "source": [
    "tuple7=(1,5,4,7,9,8,3,'pro')\n",
    "\n",
    "list(tuple7)"
   ]
  },
  {
   "cell_type": "markdown",
   "id": "2655edba-f310-4796-86db-d114af08e959",
   "metadata": {},
   "source": [
    "9. Unpack the elements of a tuple into variables."
   ]
  },
  {
   "cell_type": "code",
   "execution_count": 2,
   "id": "4c7a6b12-651d-4f43-8186-40c8dddb2a02",
   "metadata": {},
   "outputs": [
    {
     "name": "stdout",
     "output_type": "stream",
     "text": [
      "a:1, b:2, c:4, d:6, e:data, f:science, g:pro\n"
     ]
    }
   ],
   "source": [
    "tuple88=(1,2,4,6,'data','science','pro')\n",
    "\n",
    "# Unpack the elements into variables\n",
    "a,b,c,d,e,f,g=tuple88\n",
    "\n",
    "print(f\"a:{a}, b:{b}, c:{c}, d:{d}, e:{e}, f:{f}, g:{g}\")\n"
   ]
  },
  {
   "cell_type": "markdown",
   "id": "2fbd360f-a1e7-41bf-845c-259d46f90687",
   "metadata": {},
   "source": [
    "10. Create a tuple of even numbers from 1 to 10."
   ]
  },
  {
   "cell_type": "code",
   "execution_count": 7,
   "id": "e2f3f4f0-bcc4-4075-b54f-3382e6d26b86",
   "metadata": {},
   "outputs": [
    {
     "name": "stdout",
     "output_type": "stream",
     "text": [
      "The even numbers:\n",
      "(2, 4, 6, 8, 10)\n"
     ]
    }
   ],
   "source": [
    "# Use list-comprehension and then convert it into tuple\n",
    "\n",
    "even_numbers=tuple(i for i in range(1,11) if i%2==0)\n",
    "print('The even numbers:')\n",
    "print(even_numbers)"
   ]
  },
  {
   "cell_type": "markdown",
   "id": "ea8d72b2-0a29-4ccc-b7dc-9f0d5c407ef4",
   "metadata": {},
   "source": [
    "11. Create a tuple of odd numbers from 1 to 10."
   ]
  },
  {
   "cell_type": "code",
   "execution_count": 9,
   "id": "03f50929-bb0f-429d-afd5-647afac19822",
   "metadata": {},
   "outputs": [
    {
     "name": "stdout",
     "output_type": "stream",
     "text": [
      "odd numbers: (1, 3, 5, 7, 9)\n"
     ]
    }
   ],
   "source": [
    "# Use list-comprehension and then convert it into tuple\n",
    "\n",
    "odd_numbers=tuple(x for x in range(1,11) if x%2!=0)\n",
    "print('odd numbers:',odd_numbers)"
   ]
  },
  {
   "cell_type": "markdown",
   "id": "1a60420f-fa24-4911-9e35-05481924ddc2",
   "metadata": {},
   "source": [
    "12. Concatenate two tuples."
   ]
  },
  {
   "cell_type": "code",
   "execution_count": 10,
   "id": "0ece9a10-4bcb-439b-9e78-f1fe2be46bfe",
   "metadata": {},
   "outputs": [
    {
     "name": "stdout",
     "output_type": "stream",
     "text": [
      "(1, 2, 3, 4, 'nag', 7, 8, 9, 'sen')\n"
     ]
    }
   ],
   "source": [
    "tuple1=(1,2,3,4,'nag')\n",
    "tuple2=(7,8,9,'sen')\n",
    "\n",
    "concatenate=tuple1+tuple2\n",
    "\n",
    "print(concatenate)"
   ]
  },
  {
   "cell_type": "markdown",
   "id": "84a18ee1-5ef8-4235-ac77-ddd73a45f2ff",
   "metadata": {},
   "source": [
    "13. Repeat a tuple three times."
   ]
  },
  {
   "cell_type": "code",
   "execution_count": 13,
   "id": "c1953994-aa74-4087-b566-2a95c6108fde",
   "metadata": {},
   "outputs": [
    {
     "name": "stdout",
     "output_type": "stream",
     "text": [
      "(1, 2, 3, 8, 7, 0, 1, 2, 3, 8, 7, 0, 1, 2, 3, 8, 7, 0)\n"
     ]
    }
   ],
   "source": [
    "tuple8=(1,2,3,8,7,0)\n",
    "\n",
    "repeat_tuple=tuple8*3\n",
    "\n",
    "print(repeat_tuple)"
   ]
  },
  {
   "cell_type": "markdown",
   "id": "b005b316-309a-4b26-9ada-c739f966ccb7",
   "metadata": {},
   "source": [
    "14. Check if a tuple is empty."
   ]
  },
  {
   "cell_type": "code",
   "execution_count": 1,
   "id": "7230bd9e-52a1-48cc-a716-729e62867fb5",
   "metadata": {},
   "outputs": [
    {
     "name": "stdout",
     "output_type": "stream",
     "text": [
      "The tuple is empty.\n"
     ]
    }
   ],
   "source": [
    "tuple9=()\n",
    "\n",
    "if not tuple9:\n",
    "    print('The tuple is empty.')\n",
    "else:\n",
    "    print('The tuple is not empty.')"
   ]
  },
  {
   "cell_type": "markdown",
   "id": "8ad0f889-e830-48c3-b387-f326f7ca8631",
   "metadata": {},
   "source": [
    "15. Create a nested tuple."
   ]
  },
  {
   "cell_type": "code",
   "execution_count": 9,
   "id": "26a762bc-e4e8-4734-a9e7-4802635addc8",
   "metadata": {},
   "outputs": [
    {
     "name": "stdout",
     "output_type": "stream",
     "text": [
      "(3, 4, (1, 2, 3), 5, 7, 8, (4, 5, 6), 9, 0, (7, 8, 9), 5, 6, 1)\n"
     ]
    }
   ],
   "source": [
    "nested_tuple=(3,4,(1,2,3,),5,7,8, (4,5,6),9,0, (7,8,9),5,6,1)\n",
    "\n",
    "print(nested_tuple)"
   ]
  },
  {
   "cell_type": "markdown",
   "id": "89002e47-2952-42a7-8ed0-2b67306acaf9",
   "metadata": {},
   "source": [
    "16. Access the first element of a nested tuple."
   ]
  },
  {
   "cell_type": "code",
   "execution_count": 14,
   "id": "37dcbf61-1654-41e7-9ed1-085afea46050",
   "metadata": {},
   "outputs": [
    {
     "name": "stdout",
     "output_type": "stream",
     "text": [
      "2\n"
     ]
    }
   ],
   "source": [
    "tuple99=((2,3,4),(5,6,7),(1,0,9,4))\n",
    "\n",
    "print(tuple99[0][0])"
   ]
  },
  {
   "cell_type": "markdown",
   "id": "8c61c2b8-6a69-47c9-91b8-6914d1a21fc7",
   "metadata": {},
   "source": [
    "17. Create a tuple with a single element."
   ]
  },
  {
   "cell_type": "code",
   "execution_count": 15,
   "id": "ab90fa40-1f89-431e-b90d-336a45fa3b1d",
   "metadata": {},
   "outputs": [
    {
     "name": "stdout",
     "output_type": "stream",
     "text": [
      "single\n"
     ]
    }
   ],
   "source": [
    "tuple0=('single')\n",
    "print(tuple0)"
   ]
  },
  {
   "cell_type": "markdown",
   "id": "d4250a41-95cf-4bea-8c42-9ee1e61e5851",
   "metadata": {},
   "source": [
    "18. Compare two tuples."
   ]
  },
  {
   "cell_type": "code",
   "execution_count": 14,
   "id": "959abc3a-b436-4621-af78-59b44a7a1b59",
   "metadata": {},
   "outputs": [
    {
     "name": "stdout",
     "output_type": "stream",
     "text": [
      "tuple1 is less than tuple2.\n"
     ]
    }
   ],
   "source": [
    "tuple1=(1,2,3,8,9,88)\n",
    "tuple2=(1,2,3,30)\n",
    "\n",
    "if tuple1>tuple2:\n",
    "    print('Tuple1 is greater than Tuple2.')\n",
    "elif tuple1<tuple2:\n",
    "    print('tuple1 is less than tuple2.')\n",
    "    \n",
    "else:\n",
    "    print('Tuples are equal.')"
   ]
  },
  {
   "cell_type": "markdown",
   "id": "1c609349-e8b7-4346-982c-b8785382ba35",
   "metadata": {},
   "source": [
    "19. Delete a tuple."
   ]
  },
  {
   "cell_type": "code",
   "execution_count": 24,
   "id": "b6c31481-43c0-4eaa-ac42-bde32aa32557",
   "metadata": {},
   "outputs": [],
   "source": [
    "tuple7=(5,6,7,7)\n",
    "del tuple7\n",
    "\n",
    "# it will delete from memory and cannot be recovery"
   ]
  },
  {
   "cell_type": "markdown",
   "id": "f4ddafc4-0f76-4d7c-8281-15bc6a3aa7bc",
   "metadata": {},
   "source": [
    "20. Slice a tuple."
   ]
  },
  {
   "cell_type": "code",
   "execution_count": 28,
   "id": "21f8bb95-b9b6-4a5c-9b3b-cfaf7c4f49e9",
   "metadata": {},
   "outputs": [
    {
     "name": "stdout",
     "output_type": "stream",
     "text": [
      "(7, 'nag', 'sen', 8, 9)\n"
     ]
    }
   ],
   "source": [
    "tuple77=(3,4,5,5,6,7,'nag','sen',8,9)\n",
    "\n",
    "slice_tuple=tuple77[5:]\n",
    "\n",
    "print(slice_tuple)"
   ]
  },
  {
   "cell_type": "markdown",
   "id": "e6a97ecf-62af-49ae-b3e3-9274eea0185b",
   "metadata": {},
   "source": [
    "21. Find the maximum value in a tuple."
   ]
  },
  {
   "cell_type": "code",
   "execution_count": 30,
   "id": "38bfd743-2863-4656-aaeb-b66f84b1d496",
   "metadata": {},
   "outputs": [
    {
     "name": "stdout",
     "output_type": "stream",
     "text": [
      "5\n"
     ]
    }
   ],
   "source": [
    "tuple99=(2,3,4,5)\n",
    "\n",
    "maximum=max(tuple99)\n",
    "print(maximum)"
   ]
  },
  {
   "cell_type": "markdown",
   "id": "30f9391f-1fec-422c-bc82-482ff9e0d295",
   "metadata": {},
   "source": [
    "22. Find the minimum value in a tuple."
   ]
  },
  {
   "cell_type": "code",
   "execution_count": 31,
   "id": "e26ff451-1fe1-4d88-b918-0f87202796a2",
   "metadata": {},
   "outputs": [
    {
     "name": "stdout",
     "output_type": "stream",
     "text": [
      "3\n"
     ]
    }
   ],
   "source": [
    "tuple7=(98,8,7,5,4,3)\n",
    "\n",
    "minimum=min(tuple7)\n",
    "print(minimum)"
   ]
  },
  {
   "cell_type": "markdown",
   "id": "a64be579-5032-4041-889a-12072199c554",
   "metadata": {},
   "source": [
    "23. Convert a string to a tuple of characters."
   ]
  },
  {
   "cell_type": "code",
   "execution_count": 35,
   "id": "131337fe-4b2c-4287-8030-eea82600d351",
   "metadata": {},
   "outputs": [
    {
     "name": "stdout",
     "output_type": "stream",
     "text": [
      "Tuple of characters:\n",
      "('f', 'u', 'l', 'l', ' ', 's', 't', 'a', 'c', 'k', ' ', 'd', 'a', 't', 'a', ' ', 's', 'c', 'i', 'e', 'n', 'c', 'e')\n"
     ]
    }
   ],
   "source": [
    "string='full stack data science'\n",
    "\n",
    "char=tuple(string)\n",
    "print('Tuple of characters:')\n",
    "print(char)"
   ]
  },
  {
   "cell_type": "markdown",
   "id": "d7249aa2-cade-4e38-be14-af2ee1934ffb",
   "metadata": {},
   "source": [
    "24. Convert a tuple of characters to a string."
   ]
  },
  {
   "cell_type": "code",
   "execution_count": 38,
   "id": "9e886a26-8913-4d87-990a-30050e379923",
   "metadata": {},
   "outputs": [
    {
     "name": "stdout",
     "output_type": "stream",
     "text": [
      "full stack data science\n"
     ]
    }
   ],
   "source": [
    "char_tuple=('f', 'u', 'l', 'l', ' ', 's', 't', 'a', 'c', 'k', ' ', 'd', 'a', 't', 'a', ' ', 's', 'c', 'i', 'e', 'n', 'c', 'e')\n",
    "\n",
    "string=''.join(char_tuple)\n",
    "print(string)"
   ]
  },
  {
   "cell_type": "markdown",
   "id": "5dccf14e-4116-4496-a71b-30672118256e",
   "metadata": {},
   "source": [
    "25. Create a tuple from multiple data types."
   ]
  },
  {
   "cell_type": "code",
   "execution_count": 40,
   "id": "9260c0fb-7fc8-4696-92e7-b190377eb789",
   "metadata": {},
   "outputs": [
    {
     "name": "stdout",
     "output_type": "stream",
     "text": [
      "The multiple data types tuple:\n",
      "(2, 3, 4, 'nag', 'sen', True, False, 5.6, 8.4, [4, 5], {4, 5, 6}, {'a': 4, 'c': 2})\n"
     ]
    }
   ],
   "source": [
    "multi_type_tuple=(2,3,4,'nag','sen',True,False,5.6,8.4,[4,5],{4,5,6,},{'a':4,'c':2,})\n",
    "print('The multiple data types tuple:')\n",
    "print(multi_type_tuple)"
   ]
  },
  {
   "cell_type": "markdown",
   "id": "d9641c51-e703-4328-a632-bce724edb43d",
   "metadata": {},
   "source": [
    "26. Check if two tuples are identical. "
   ]
  },
  {
   "cell_type": "code",
   "execution_count": 52,
   "id": "6a279918-6be3-4550-90ae-5d0f0b940568",
   "metadata": {},
   "outputs": [
    {
     "name": "stdout",
     "output_type": "stream",
     "text": [
      "tuples are identical.\n"
     ]
    }
   ],
   "source": [
    "tuple4=(3,4,5,6,7)\n",
    "tuple8=(3,4,5,6,7)\n",
    "\n",
    "# Use '==' equality operator to check equality\n",
    "if tuple4==tuple8:\n",
    "    print('tuples are identical.')\n",
    "else:\n",
    "    print('tuples are not identical.')"
   ]
  },
  {
   "cell_type": "markdown",
   "id": "02987aaf-cf96-4721-9b00-59bf9abe528e",
   "metadata": {},
   "source": [
    "27. Sort the elements of a tuple."
   ]
  },
  {
   "cell_type": "code",
   "execution_count": 69,
   "id": "54a18806-982b-4477-8967-1c22617f88c1",
   "metadata": {},
   "outputs": [
    {
     "name": "stdout",
     "output_type": "stream",
     "text": [
      "The sorted elements of the tuple:\n",
      "(2, 3, 5, 6, 6, 7, 8)\n"
     ]
    }
   ],
   "source": [
    "tuple99=(5,6,3,2,6,7,8)\n",
    "# We cannot directly sort elements in tuple cause tuple are immutable\n",
    "# Use sorted function to create sorted list of elements in tuple \n",
    "sorted_list=sorted(tuple99)\n",
    "# Convert it back into the tuple \n",
    "sorted_tuple=tuple(sorted_list)\n",
    "print('The sorted elements of the tuple:')\n",
    "print(sorted_tuple)"
   ]
  },
  {
   "cell_type": "markdown",
   "id": "d4751b46-c700-445c-8675-a3414491edd8",
   "metadata": {},
   "source": [
    "28. Convert a tuple of integers to a tuple of strings."
   ]
  },
  {
   "cell_type": "code",
   "execution_count": 70,
   "id": "a0dfd92d-f467-411e-9ed0-c6b271fad159",
   "metadata": {},
   "outputs": [
    {
     "name": "stdout",
     "output_type": "stream",
     "text": [
      "Tuple of string:\n",
      "('2', '3', '4', '5', '6', '7', '8')\n"
     ]
    }
   ],
   "source": [
    "int_tuple77=(2,3,4,5,6,7,8)\n",
    "\n",
    "# Use tuple comprehension (generator expression) to convert integers into string.\n",
    "\n",
    "str_tuple=tuple(str(item) for item in int_tuple77)\n",
    "\n",
    "print('Tuple of string:')\n",
    "print(str_tuple)"
   ]
  },
  {
   "cell_type": "markdown",
   "id": "9d9af7e1-85b7-42f3-819f-6d1d1ca8e2a5",
   "metadata": {},
   "source": [
    "29. Convert a tuple of strings to a tuple of integers."
   ]
  },
  {
   "cell_type": "code",
   "execution_count": 75,
   "id": "4d139258-8790-4c51-ba05-3c06ff357210",
   "metadata": {},
   "outputs": [
    {
     "name": "stdout",
     "output_type": "stream",
     "text": [
      "The tuple of integers is: (1, 5, 7, 9)\n"
     ]
    }
   ],
   "source": [
    "tuple44=('1','5','7','9')\n",
    "\n",
    "# Use tuple comprehension (generator expression)\n",
    "\n",
    "int_tuple=tuple(int(i)for i in tuple44)\n",
    "print('The tuple of integers is:',int_tuple)"
   ]
  },
  {
   "cell_type": "markdown",
   "id": "507c2427-bc13-4ee1-b3ea-05bf96c39836",
   "metadata": {},
   "source": [
    "30. Merge two tuples."
   ]
  },
  {
   "cell_type": "code",
   "execution_count": 78,
   "id": "1b692fae-114c-43da-97da-f3001aacca98",
   "metadata": {},
   "outputs": [
    {
     "name": "stdout",
     "output_type": "stream",
     "text": [
      "Merged tuples are:\n",
      "(1, 2, 3, 4, 5, 5, 6, 7, 8, 9)\n"
     ]
    }
   ],
   "source": [
    "tuple1=(1,2,3,4,5)\n",
    "tuple2=(5,6,7,8,9)\n",
    "\n",
    "merged_tuple=tuple1+tuple2\n",
    "print('Merged tuples are:')\n",
    "print(merged_tuple)"
   ]
  },
  {
   "cell_type": "markdown",
   "id": "2b7a83ec-80c4-426e-bb2f-2a69fc0978e3",
   "metadata": {},
   "source": [
    "31. Flatten a nested tuple. "
   ]
  },
  {
   "cell_type": "code",
   "execution_count": 94,
   "id": "3b44250c-d7a9-45d6-8d7b-9c636eb4d13c",
   "metadata": {},
   "outputs": [
    {
     "name": "stdout",
     "output_type": "stream",
     "text": [
      "The flattened tuple is:\n",
      "(1, 2, 3, 3, 4, 5, 6, 7, 8, 9, 9, 0)\n"
     ]
    }
   ],
   "source": [
    "def flatten_tuple(nested_tuple):\n",
    "    flat_list=[]\n",
    "    for item in nested_tuple:\n",
    "        if isinstance(item,tuple):\n",
    "            # If the item is tuple, recursively flatten it\n",
    "            \n",
    "            flat_list.extend(flatten_tuple(item))\n",
    "            \n",
    "        else:\n",
    "            # If the item is not a tuple, add it to the flat list\n",
    "            \n",
    "            flat_list.append(item)\n",
    "            \n",
    "    return tuple(flat_list)\n",
    "\n",
    "nested_tuple=(1,2,3,(3,4,5),6,(7,8,9),9,0)\n",
    "\n",
    "result=flatten_tuple(nested_tuple)\n",
    "\n",
    "print('The flattened tuple is:')\n",
    "print(result)"
   ]
  },
  {
   "cell_type": "markdown",
   "id": "163f7656-d383-4144-8c45-cdd8323d1959",
   "metadata": {},
   "source": [
    "32. Create a tuple of the first 5 prime numbers."
   ]
  },
  {
   "cell_type": "code",
   "execution_count": 3,
   "id": "6cb7cfe5-f2ec-49e6-ac8b-59072d9a9417",
   "metadata": {},
   "outputs": [
    {
     "name": "stdout",
     "output_type": "stream",
     "text": [
      "(2, 3, 5, 7, 11)\n"
     ]
    }
   ],
   "source": [
    "def generate_primes(count):       \n",
    "    prime_list=[]\n",
    "    num=2\n",
    "    while len(prime_list)<count:\n",
    "        is_prime=True\n",
    "        for i in range(2,int(num**0.5) +1):\n",
    "            if num%i==0:\n",
    "                is_prime=False\n",
    "                break\n",
    "        if is_prime:\n",
    "            prime_list.append(num)\n",
    "            \n",
    "        num+=1\n",
    "    return tuple(prime_list)\n",
    "\n",
    "# Call the function to generate a tuple of the first 5 prime numbers\n",
    "first_5_primes=generate_primes(5)\n",
    "print(first_5_primes)"
   ]
  },
  {
   "cell_type": "markdown",
   "id": "8fbaf526-7d0e-4189-acb0-fda07a388c24",
   "metadata": {},
   "source": [
    "33. Check if a tuple is a palindrome."
   ]
  },
  {
   "cell_type": "code",
   "execution_count": 14,
   "id": "2fb489f3-bdf1-4a2b-b182-c23c27850a52",
   "metadata": {},
   "outputs": [
    {
     "name": "stdout",
     "output_type": "stream",
     "text": [
      "The tuple is palindrome.\n"
     ]
    }
   ],
   "source": [
    "def is_palindrome(tuple4):\n",
    "    \n",
    "    reverse_tuple=tuple4[::-1]\n",
    "    return reverse_tuple\n",
    "\n",
    "tuple4=(1,2,3,4,3,2,1)\n",
    "\n",
    "reverse_tuple=is_palindrome(tuple4)\n",
    "\n",
    "if reverse_tuple==tuple4:\n",
    "    print('The tuple is palindrome.')\n",
    "else:\n",
    "    print('The tuple is not palindrome.')"
   ]
  },
  {
   "cell_type": "markdown",
   "id": "9db4c9d1-6cc9-48c9-a01f-f43384fe37b3",
   "metadata": {},
   "source": [
    "34. Create a tuple of squares of numbers from 1 to 5."
   ]
  },
  {
   "cell_type": "code",
   "execution_count": 18,
   "id": "ccbfc526-a747-4e2c-ad4b-4e60df64ab8a",
   "metadata": {},
   "outputs": [
    {
     "name": "stdout",
     "output_type": "stream",
     "text": [
      "The tuple of squares of numbers is: (1, 4, 9, 16, 25)\n"
     ]
    }
   ],
   "source": [
    "def square_tuple(n):\n",
    "    list_tuple=[]\n",
    "    \n",
    "    for i in range(1,6):\n",
    "        i=i**2\n",
    "        list_tuple.append(i)\n",
    "        \n",
    "    return list_tuple\n",
    "\n",
    "n=range(1,6)\n",
    "list_tuple=square_tuple(n)\n",
    "result=tuple(list_tuple)\n",
    "\n",
    "print('The tuple of squares of numbers is:',result)\n",
    "        "
   ]
  },
  {
   "cell_type": "markdown",
   "id": "67a6cb0d-897d-4f72-828b-b977e0cc9de9",
   "metadata": {},
   "source": [
    "35. Filter out all even numbers from a tuple."
   ]
  },
  {
   "cell_type": "code",
   "execution_count": 3,
   "id": "f7dc3add-8a75-45b4-a3c4-05e59503e309",
   "metadata": {},
   "outputs": [
    {
     "name": "stdout",
     "output_type": "stream",
     "text": [
      "(3, 5, 7, 9, 5, 3, 3)\n"
     ]
    }
   ],
   "source": [
    "def filter_even_num(t):\n",
    "    # Use list comprehension to filter out even numbers\n",
    "    filtered_list=[i for i in t if i%2!=0]\n",
    "    return tuple(filtered_list)\n",
    "\n",
    "t=(2,3,4,5,6,8,7,8,9,0,6,5,3,3,2)\n",
    "\n",
    "filtered_tuple=filter_even_num(t)\n",
    "\n",
    "print(filtered_tuple)"
   ]
  },
  {
   "cell_type": "markdown",
   "id": "bfec7869-34e6-4d3f-b9f7-9ca71b5e81fc",
   "metadata": {},
   "source": [
    "36. Multiply all elements in a tuple by 2."
   ]
  },
  {
   "cell_type": "code",
   "execution_count": 16,
   "id": "0a30ca61-8bea-42ec-b7d5-4a7a80276f4b",
   "metadata": {},
   "outputs": [
    {
     "name": "stdout",
     "output_type": "stream",
     "text": [
      "(4, 6, 8, 10, 12, 14, 12)\n"
     ]
    }
   ],
   "source": [
    "tuple9=(2,3,4,5,6,7,6)\n",
    "list_tuple=[]\n",
    "for i in tuple9:\n",
    "    i=i*2\n",
    "    list_tuple.append(i)\n",
    "    \n",
    "\n",
    "new_tuple=tuple(list_tuple)\n",
    "print(new_tuple)"
   ]
  },
  {
   "cell_type": "markdown",
   "id": "305901b2-bb1f-46a3-829d-84856f4a4de1",
   "metadata": {},
   "source": [
    "37. Create a tuple of random numbers."
   ]
  },
  {
   "cell_type": "code",
   "execution_count": 22,
   "id": "8d6e15b9-5501-4845-b2fe-b4af91d8d35b",
   "metadata": {},
   "outputs": [
    {
     "name": "stdout",
     "output_type": "stream",
     "text": [
      "(33, 66, 41, 23, 6, 33, 58, 74, 85, 26)\n"
     ]
    }
   ],
   "source": [
    "import random\n",
    "\n",
    "random_numbers=tuple(random.randint(1,100) for _ in range(10))\n",
    "\n",
    "print(random_numbers)"
   ]
  },
  {
   "cell_type": "markdown",
   "id": "f3edf19b-e4bb-43c9-a47a-778e8075c9d0",
   "metadata": {},
   "source": [
    "38. Check if a tuple is sorted."
   ]
  },
  {
   "cell_type": "code",
   "execution_count": 28,
   "id": "80be1823-39cb-413f-8cf7-c76f7c40fa98",
   "metadata": {},
   "outputs": [
    {
     "name": "stdout",
     "output_type": "stream",
     "text": [
      "The tuple is sorted.\n"
     ]
    }
   ],
   "source": [
    "def is_sorted_tuple(input_tuple):\n",
    "    # Compare the original tuple to a sorted version of itself\n",
    "    # check for the asscending order\n",
    "    return input_tuple==tuple(sorted(input_tuple))\n",
    "\n",
    "input_tuple=(2,3,4,5,6,7,8)\n",
    "\n",
    "if is_sorted_tuple(input_tuple):\n",
    "    print('The tuple is sorted.')\n",
    "else:\n",
    "    print('The tuple is not sorted.')"
   ]
  },
  {
   "cell_type": "markdown",
   "id": "200de0c9-058a-46ca-9649-c855c9acdcbd",
   "metadata": {},
   "source": [
    "39. Rotate a tuple to the left by 'n' positions."
   ]
  },
  {
   "cell_type": "code",
   "execution_count": 40,
   "id": "e0dab16a-2172-4c34-b93b-7ed0b76f04a9",
   "metadata": {},
   "outputs": [
    {
     "name": "stdout",
     "output_type": "stream",
     "text": [
      "(4, 5, 6, 7, 8, 9, 1, 2, 3)\n"
     ]
    }
   ],
   "source": [
    "def rotate_tuple_left(input_tuple,n):\n",
    "    if len(input_tuple)==0:\n",
    "        return input_tuple\n",
    "    \n",
    "    n=n%len(input_tuple) # Ensure n is within the range of the tuple's length\n",
    "    rotated_tuple=input_tuple[n:]+input_tuple[:n]\n",
    "    return rotated_tuple\n",
    "\n",
    "input_tuple=(1,2,3,4,5,6,7,8,9)\n",
    "n=3\n",
    "\n",
    "rotated=rotate_tuple_left(input_tuple,n)\n",
    "print(rotated)"
   ]
  },
  {
   "cell_type": "markdown",
   "id": "94fa354d-cf5c-46c6-9551-5c778a0264f8",
   "metadata": {},
   "source": [
    "40. Rotate a tuple to the right by 'n' positions."
   ]
  },
  {
   "cell_type": "code",
   "execution_count": 46,
   "id": "79f451af-9dd8-4d03-ac61-abb35058cc3c",
   "metadata": {},
   "outputs": [
    {
     "name": "stdout",
     "output_type": "stream",
     "text": [
      "(8, 9, 1, 2, 3, 4, 5, 6, 7)\n"
     ]
    }
   ],
   "source": [
    "def rotate_tuple_right(input_tuple,n):\n",
    "    if len(input_tuple)==0:\n",
    "        return input_tuple\n",
    "    n=n%len(input_tuple) # Insure that the n is within the range of tuple length\n",
    "    return input_tuple[-n:] + input_tuple[:-n]\n",
    "    \n",
    "input_tuple=(1,2,3,4,5,6,7,8,9)\n",
    "n=11\n",
    "rotated=rotate_tuple_right(input_tuple,n)\n",
    "print(rotated)"
   ]
  },
  {
   "cell_type": "markdown",
   "id": "fb363261-414a-42e3-ad89-9b4f3fda7cc9",
   "metadata": {},
   "source": [
    "41. Create a tuple of the first 5 Fibonacci numbers."
   ]
  },
  {
   "cell_type": "code",
   "execution_count": 2,
   "id": "92f00ba6-ceb8-4cde-92f8-7b3f2bd0cc98",
   "metadata": {},
   "outputs": [
    {
     "name": "stdout",
     "output_type": "stream",
     "text": [
      "(0, 1, 1, 2, 3)\n"
     ]
    }
   ],
   "source": [
    "def generate_fibonacci(n):\n",
    "    fibonacci_sequence=[0,1] # Initialize the sequence with the first two Fibonacci numbers.\n",
    "    \n",
    "    while len(fibonacci_sequence)<n:\n",
    "        next_number=fibonacci_sequence[-1] + fibonacci_sequence[-2]\n",
    "        fibonacci_sequence.append(next_number)\n",
    "    return tuple(fibonacci_sequence)\n",
    "\n",
    "# Generate the first 5 fibonacci numbers\n",
    "n=5\n",
    "first_5_fibonacci=generate_fibonacci(n)\n",
    "\n",
    "\n",
    "print(first_5_fibonacci)\n",
    "    "
   ]
  },
  {
   "cell_type": "markdown",
   "id": "c8d65b62-a874-4787-8987-5b811d875716",
   "metadata": {},
   "source": [
    "42. Create a tuple from user input."
   ]
  },
  {
   "cell_type": "code",
   "execution_count": 5,
   "id": "68fbfb12-1daf-4165-a358-af34799532e4",
   "metadata": {},
   "outputs": [
    {
     "name": "stdin",
     "output_type": "stream",
     "text": [
      "Enter the number of elements in the tuple: 15\n",
      "enter element 1: 5\n",
      "enter element 2: 7\n",
      "enter element 3: 8\n",
      "enter element 4: 3\n",
      "enter element 5: 6\n",
      "enter element 6: 9\n",
      "enter element 7: 9\n",
      "enter element 8: 3\n",
      "enter element 9: 2\n",
      "enter element 10: 6\n",
      "enter element 11: 6\n",
      "enter element 12: 7\n",
      "enter element 13: 9\n",
      "enter element 14: 6\n",
      "enter element 15: 5\n"
     ]
    },
    {
     "name": "stdout",
     "output_type": "stream",
     "text": [
      "User's Tuple: ('5', '7', '8', '3', '6', '9', '9', '3', '2', '6', '6', '7', '9', '6', '5')\n"
     ]
    }
   ],
   "source": [
    "# Initialize an empty list to store user inputs\n",
    "\n",
    "user_inputs=[]\n",
    "\n",
    "# Ask the user for input and append them to the list\n",
    "\n",
    "n=int(input('Enter the number of elements in the tuple:'))\n",
    "\n",
    "for i in range(n):\n",
    "      user_value=input(f'enter element {i+1}:')\n",
    "      \n",
    "      user_inputs.append(user_value)\n",
    "      \n",
    "# Create a tuple from the user inputs\n",
    "user_tuple=tuple(user_inputs)\n",
    "\n",
    "# Print the resulting tuple\n",
    "print(\"User's Tuple:\", user_tuple)\n"
   ]
  },
  {
   "cell_type": "markdown",
   "id": "158fca90-a72d-40ab-a02d-9020dc4f43bd",
   "metadata": {},
   "source": [
    "43. Swap two elements in a tuple."
   ]
  },
  {
   "cell_type": "code",
   "execution_count": 20,
   "id": "316d9bbe-ec2e-4f98-8472-ba774628ba0f",
   "metadata": {},
   "outputs": [
    {
     "name": "stdout",
     "output_type": "stream",
     "text": [
      "(1, 2, 3, 4, 8, 6, 7, 5, 9)\n"
     ]
    }
   ],
   "source": [
    "def swap_tuple(input_tuple,index1,index2):\n",
    "    #As tuple is immutable we cannot swap elements in it directly\n",
    "    mutable_list=list(input_tuple)\n",
    "    \n",
    "    # Swaping the elements in list\n",
    "    mutable_list[index1],mutable_list[index2]=mutable_list[index2],mutable_list[index1]\n",
    "    \n",
    "    # Convert list back to a tuple\n",
    "    swapped_tuple=tuple(mutable_list)\n",
    "    return swapped_tuple\n",
    "\n",
    "my_tuple=(1,2,3,4,5,6,7,8,9)\n",
    "index1=4\n",
    "index2=7\n",
    "result_tuple=swap_tuple(my_tuple,index1,index2)\n",
    "print(result_tuple)\n",
    "    "
   ]
  },
  {
   "cell_type": "markdown",
   "id": "c695d133-8546-4f8d-8b0a-2048d69c4c73",
   "metadata": {},
   "source": [
    "44. Reverse the elements of a tuple."
   ]
  },
  {
   "cell_type": "code",
   "execution_count": 21,
   "id": "7de97c2f-769f-4cc9-a480-d784d683bece",
   "metadata": {},
   "outputs": [
    {
     "name": "stdout",
     "output_type": "stream",
     "text": [
      "The reversed tuple is: (9, 8, 7, 6, 5, 4, 3, 2, 1)\n"
     ]
    }
   ],
   "source": [
    "def reverse_tuple_elements(input_tuple):\n",
    "    # As tuple is immutable convert it to list\n",
    "    tuple_list=list(input_tuple)\n",
    "    \n",
    "    reverse_list=tuple_list[::-1]\n",
    "    \n",
    "    # convert list back to a tuple\n",
    "    reversed_tuple=tuple(reverse_list)\n",
    "    \n",
    "    return reversed_tuple\n",
    "\n",
    "\n",
    "input_tuple=(1,2,3,4,5,6,7,8,9)\n",
    "result=reverse_tuple_elements(input_tuple)\n",
    "\n",
    "print('The reversed tuple is:',result)"
   ]
  },
  {
   "cell_type": "markdown",
   "id": "c5c9a8b7-c15e-49a7-a7a4-d5bf0b900579",
   "metadata": {},
   "source": [
    "45. Create a tuple of the first 'n' powers of 2."
   ]
  },
  {
   "cell_type": "code",
   "execution_count": 27,
   "id": "f2036a7c-dcc6-44d6-8849-e0a54da514e3",
   "metadata": {},
   "outputs": [
    {
     "name": "stdin",
     "output_type": "stream",
     "text": [
      "enter number of powers: 11\n"
     ]
    },
    {
     "name": "stdout",
     "output_type": "stream",
     "text": [
      "The first '11' powers of two is: (1, 2, 4, 8, 16, 32, 64, 128, 256, 512, 1024)\n"
     ]
    }
   ],
   "source": [
    "def powers_tuple(n):\n",
    "    list_powers=[]  # Initialize list to store 2's powers\n",
    "    \n",
    "    for i in range(n):\n",
    "        i=2**i\n",
    "        list_powers.append(i)\n",
    "    # Convert list to tuple    \n",
    "    return tuple(list_powers)\n",
    "\n",
    "n=int(input('enter number of powers:'))\n",
    "\n",
    "result=powers_tuple(n)\n",
    "\n",
    "print(f\"The first '{n}' powers of two is:\",result)"
   ]
  },
  {
   "cell_type": "markdown",
   "id": "3936b466-b609-4b62-842b-b72f62a963e6",
   "metadata": {},
   "source": [
    "46. Find the longest string in the tuple of string."
   ]
  },
  {
   "cell_type": "code",
   "execution_count": 41,
   "id": "b19e68dd-3867-4301-bbd3-ebfcd1c64525",
   "metadata": {},
   "outputs": [
    {
     "name": "stdout",
     "output_type": "stream",
     "text": [
      "The longest string in the tuple is: this is the longest string\n"
     ]
    }
   ],
   "source": [
    "def find_longest_string(input_tuple):\n",
    "    if not input_tuple:\n",
    "        return None # return None for an empty tuple\n",
    "    # Initialize with the first string\n",
    "    longest_string=input_tuple[0]\n",
    "    for word in input_tuple:\n",
    "        if len(word)>len(longest_string):\n",
    "            longest_string=word\n",
    "            \n",
    "    return longest_string\n",
    "\n",
    "input_tuple=('full','stack','data','science','pro','this is the longest string')\n",
    "\n",
    "result=find_longest_string(input_tuple)\n",
    "print('The longest string in the tuple is:',result)\n",
    "    "
   ]
  },
  {
   "cell_type": "markdown",
   "id": "0470c8a4-345a-4e45-bfe7-a463c52b988f",
   "metadata": {},
   "source": [
    "47. Find the shortest string in a tuple of string."
   ]
  },
  {
   "cell_type": "code",
   "execution_count": 42,
   "id": "266f7b95-4b06-4aaa-8515-09cece5c1111",
   "metadata": {},
   "outputs": [
    {
     "name": "stdout",
     "output_type": "stream",
     "text": [
      "The shortest string in a tuple is: pro\n"
     ]
    }
   ],
   "source": [
    "def find_shortest_string(input_tuple):\n",
    "    if not input_tuple:\n",
    "        return None # Return None for an empty tuple\n",
    "    \n",
    "    # Initialize with the first string\n",
    "    \n",
    "    shortest_string=input_tuple[0]\n",
    "    for string in input_tuple:\n",
    "        if len(string)<len(shortest_string):\n",
    "            shortest_string=string\n",
    "    return shortest_string\n",
    "\n",
    "input_tuple=('full','stack','data','science','pro','master')\n",
    "\n",
    "result=find_shortest_string(input_tuple)\n",
    "\n",
    "print('The shortest string in a tuple is:',result)"
   ]
  },
  {
   "cell_type": "markdown",
   "id": "ce2911b5-cd50-4110-a6ea-d4de008f3f07",
   "metadata": {},
   "source": [
    "48. Create a tuple of the first 'n' triangular numbers."
   ]
  },
  {
   "cell_type": "code",
   "execution_count": 44,
   "id": "ff246528-b530-48db-8c4b-13e81001ce0e",
   "metadata": {},
   "outputs": [
    {
     "name": "stdin",
     "output_type": "stream",
     "text": [
      "enter the number of triangular numbers: 10\n"
     ]
    },
    {
     "name": "stdout",
     "output_type": "stream",
     "text": [
      "The first '10' triangular numbers are: (1, 3, 6, 10, 15, 21, 28, 36, 45, 55)\n"
     ]
    }
   ],
   "source": [
    "def create_triangular_num(n):\n",
    "    # Create list to store triangular numbers\n",
    "    \n",
    "    triangular_numbers=[]\n",
    "    total=0\n",
    "    \n",
    "    for i in range(1,n+1):\n",
    "        total+=i\n",
    "        triangular_numbers.append(total)\n",
    "        \n",
    "    return tuple(triangular_numbers)\n",
    "\n",
    "n=int(input('enter the number of triangular numbers:'))\n",
    "\n",
    "result=create_triangular_num(n)\n",
    "print(f\"The first '{n}' triangular numbers are:\",result)\n",
    "        \n",
    "    "
   ]
  },
  {
   "cell_type": "markdown",
   "id": "60db90d0-7d53-4cf8-bbed-1b261900691c",
   "metadata": {},
   "source": [
    "49. Check if a tuple contains another tuple as a subsequence."
   ]
  },
  {
   "cell_type": "code",
   "execution_count": 53,
   "id": "3ae6318f-4ef1-4a0f-a116-4361c5c53e8b",
   "metadata": {},
   "outputs": [
    {
     "name": "stdout",
     "output_type": "stream",
     "text": [
      "The sub_tuple is a subsequence of the main tuple.\n"
     ]
    }
   ],
   "source": [
    "def is_subsequence(subsequence, sequence):\n",
    "    sub_len=len(subsequence)\n",
    "    seq_len=len(sequence)\n",
    "    \n",
    "    if sub_len>seq_len:\n",
    "        return False\n",
    "    \n",
    "    i=0 # Index for the larger tuple 'sequence'\n",
    "    j=0 # Index for the smaller tuple 'subsequence'\n",
    "    \n",
    "    while i< seq_len:\n",
    "        if sequence[i]==subsequence[j]:\n",
    "            j+=1\n",
    "            if j==sub_len:\n",
    "                return True # Found the subsequence\n",
    "        i+=1\n",
    "        \n",
    "    return False # Subsequence not found\n",
    "\n",
    "# Example Usage:\n",
    "main_tuple=(1,2,3,4,5,6,7,8,9)\n",
    "sub_tuple=(5,6,7)\n",
    "\n",
    "if is_subsequence(sub_tuple,main_tuple):\n",
    "    print('The sub_tuple is a subsequence of the main tuple.')\n",
    "    \n",
    "else:\n",
    "    print('The sub_tuple is not a subsequence of the main tuple.')\n",
    "    \n",
    "    \n",
    "\n",
    "        "
   ]
  },
  {
   "cell_type": "markdown",
   "id": "1723225f-b937-49a9-8d3a-6941321aed1c",
   "metadata": {},
   "source": [
    "50. Create a tuple of alternating 1s and 0s of length 'n'."
   ]
  },
  {
   "cell_type": "code",
   "execution_count": 30,
   "id": "21b9280d-1b82-4d33-9f43-4f960300191b",
   "metadata": {},
   "outputs": [
    {
     "name": "stdout",
     "output_type": "stream",
     "text": [
      "(1, 0, 1, 0, 1, 0, 1, 0, 1, 0)\n"
     ]
    }
   ],
   "source": [
    "def alternating_ones_and_zeros(n):\n",
    "    if n <= 0:\n",
    "        return ()\n",
    "    \n",
    "    return tuple(1 if i % 2 == 0 else 0 for i in range(n))\n",
    "\n",
    "# Example usage:\n",
    "n = 10  # You can change this to the desired length\n",
    "result_tuple = alternating_ones_and_zeros(n)\n",
    "print(result_tuple)"
   ]
  },
  {
   "cell_type": "markdown",
   "id": "1cb81840-5dbd-48ff-a910-bf5f3361b59f",
   "metadata": {},
   "source": [
    "# Set Based Practice Problem:"
   ]
  },
  {
   "cell_type": "code",
   "execution_count": 4,
   "id": "77e14409-a740-4f06-95b5-522e36f45eff",
   "metadata": {},
   "outputs": [
    {
     "name": "stdout",
     "output_type": "stream",
     "text": [
      "{1, 2, 3, 4, 5}\n"
     ]
    }
   ],
   "source": [
    "#1. Create a set with integers from 1 to 5.\n",
    "set={1}\n",
    "for i in range(2,6):\n",
    "    set.add(i)\n",
    "    \n",
    "print(set)"
   ]
  },
  {
   "cell_type": "code",
   "execution_count": 5,
   "id": "29811268-dc67-4374-97dd-ccc18afc5b86",
   "metadata": {},
   "outputs": [
    {
     "name": "stdout",
     "output_type": "stream",
     "text": [
      "{1, 2, 3, 4, 5, 6, 7}\n"
     ]
    }
   ],
   "source": [
    "#2. Add an element to a set.\n",
    "set={1,2,3,4,5,6}\n",
    "\n",
    "set.add(7)\n",
    "print(set)"
   ]
  },
  {
   "cell_type": "code",
   "execution_count": 7,
   "id": "89bec201-2639-4156-a67a-efa473c9354b",
   "metadata": {},
   "outputs": [
    {
     "name": "stdout",
     "output_type": "stream",
     "text": [
      "{1, 2, 3, 6, 7}\n"
     ]
    }
   ],
   "source": [
    "#3. Remove an element from a set.\n",
    "set={1,2,3,5,6,7}\n",
    "\n",
    "set.remove(5)\n",
    "print(set)"
   ]
  },
  {
   "cell_type": "code",
   "execution_count": 12,
   "id": "5d4f1b4e-05be-4cad-bbf6-b1ee4be5a4f0",
   "metadata": {},
   "outputs": [
    {
     "name": "stdout",
     "output_type": "stream",
     "text": [
      "nag exists in the set.\n"
     ]
    }
   ],
   "source": [
    "#4. Check if an element exists in a set.\n",
    "set3={1,2,3,5,'nag','sen','pro'}\n",
    "\n",
    "# Check if an element exists in the set\n",
    "\n",
    "element_to_check='nag'\n",
    "\n",
    "if element_to_check in set3:\n",
    "    print(f'{element_to_check} exists in the set.')\n",
    "    \n",
    "else:\n",
    "    print(f'{element_to_check} does not exist in the set.')"
   ]
  },
  {
   "cell_type": "code",
   "execution_count": 13,
   "id": "6c124b1b-ee88-448c-af5e-69c794a78da8",
   "metadata": {},
   "outputs": [
    {
     "name": "stdout",
     "output_type": "stream",
     "text": [
      "The length of the set is:\n",
      "7\n"
     ]
    }
   ],
   "source": [
    "#5. Find the length of a set without using the 'len()' function.\n",
    "def find_length(set4):\n",
    "    length=0\n",
    "    \n",
    "    for i in set4:\n",
    "        length+=1\n",
    "        \n",
    "    return length\n",
    "\n",
    "set4={1,2,3,4,5,6,7}\n",
    "\n",
    "result=find_length(set4)\n",
    "print('The length of the set is:')\n",
    "print(result)"
   ]
  },
  {
   "cell_type": "code",
   "execution_count": 16,
   "id": "60669a8a-20b3-4314-84fa-f23022b4afc5",
   "metadata": {},
   "outputs": [
    {
     "name": "stdout",
     "output_type": "stream",
     "text": [
      "set()\n"
     ]
    }
   ],
   "source": [
    "#6. Clear all elements from a set.\n",
    "set9={4,5,6,7,89,0}\n",
    "\n",
    "set9.clear()\n",
    "print(set9)"
   ]
  },
  {
   "cell_type": "code",
   "execution_count": 36,
   "id": "083a60f7-5d30-4be8-b634-89e3b4cdd06f",
   "metadata": {},
   "outputs": [
    {
     "name": "stdout",
     "output_type": "stream",
     "text": [
      "The set of even numbers is: {2, 4, 6, 8, 10}\n"
     ]
    }
   ],
   "source": [
    "#7. Create a set of even numbers from 1 to 10.\n",
    "# Use set comprehension \n",
    "even_num={num for num in range(1,11) if num%2==0}\n",
    "\n",
    "print('The set of even numbers is:',even_num)"
   ]
  },
  {
   "cell_type": "code",
   "execution_count": 37,
   "id": "e22aaa81-412b-4256-bc49-eed8554aec0d",
   "metadata": {},
   "outputs": [
    {
     "name": "stdout",
     "output_type": "stream",
     "text": [
      "The set of odd numbers is: {1, 3, 5, 7, 9}\n"
     ]
    }
   ],
   "source": [
    "#8. Create a set of odd numbers from 1 to 10.\n",
    "# Use set comprehension\n",
    "\n",
    "odd_num={num for num in range(1,11) if num%2!=0}\n",
    "\n",
    "print('The set of odd numbers is:',odd_num)"
   ]
  },
  {
   "cell_type": "code",
   "execution_count": 1,
   "id": "2ece77ec-18ad-49c7-8074-f3bf54e5b808",
   "metadata": {},
   "outputs": [
    {
     "name": "stdout",
     "output_type": "stream",
     "text": [
      "{1, 2, 3, 4, 5, 6, 7, 8}\n"
     ]
    }
   ],
   "source": [
    "#9. Find the union of two sets.\n",
    "set1={1,2,3,4}\n",
    "set2={3,4,5,6,7,8}\n",
    "# use union method , it will give all unique elements in both sets\n",
    "union_set=set1.union(set2)\n",
    "print(union_set)"
   ]
  },
  {
   "cell_type": "code",
   "execution_count": 2,
   "id": "fc302b6f-eb60-4603-be07-8a2c22f1520a",
   "metadata": {},
   "outputs": [
    {
     "name": "stdout",
     "output_type": "stream",
     "text": [
      "{3, 4, 5, 6, 7}\n"
     ]
    }
   ],
   "source": [
    "#10. Find the intersection of two sets.\n",
    "set1={1,2,3,4,5,6,7}\n",
    "set2={3,4,5,6,7,8,9,0}\n",
    "\n",
    "intersection_set=set1.intersection(set2)\n",
    "print(intersection_set)"
   ]
  },
  {
   "cell_type": "code",
   "execution_count": 5,
   "id": "3dc37dbc-d1e3-4ec7-bf6e-07e7e2d212ae",
   "metadata": {},
   "outputs": [
    {
     "name": "stdout",
     "output_type": "stream",
     "text": [
      "{1, 2}\n"
     ]
    }
   ],
   "source": [
    "#11. Find the difference between two sets.\n",
    "set7={1,2,3,4,5,6,7}\n",
    "set8={6,7,5,4,3}\n",
    "\n",
    "set_difference=set7.difference(set8)\n",
    "print(set_difference)"
   ]
  },
  {
   "cell_type": "code",
   "execution_count": 14,
   "id": "ea70b2d7-72be-45da-bfe9-3a9ec163de00",
   "metadata": {},
   "outputs": [
    {
     "name": "stdout",
     "output_type": "stream",
     "text": [
      "The given set is a subset of a set.\n"
     ]
    }
   ],
   "source": [
    "#12. Check if a set is a subset of another set.\n",
    "set9={1,2,3,4,5,6,7,8,9}\n",
    "set1={9,5,6,1}\n",
    "\n",
    "is_subset=set1.issubset(set9)\n",
    "if is_subset:\n",
    "    print('The given set is a subset of a set.')\n",
    "else:\n",
    "    print('The given set is not a subset of a set.')"
   ]
  },
  {
   "cell_type": "code",
   "execution_count": 18,
   "id": "e711171e-4646-41c3-83fe-84b5a93d7823",
   "metadata": {},
   "outputs": [
    {
     "name": "stdout",
     "output_type": "stream",
     "text": [
      "The given set is a superset of a set.\n"
     ]
    }
   ],
   "source": [
    "#13. Check if a set is a superset of another set.\n",
    "set9={1,2,3,4,5,6,7,8,9}\n",
    "set1={9,5,6,1}\n",
    "\n",
    "is_superset=set9.issuperset(set1)\n",
    "if is_superset:\n",
    "    print('The given set is a superset of a set.')\n",
    "else:\n",
    "    print('The given set is not a superset of a set.')\n"
   ]
  },
  {
   "cell_type": "code",
   "execution_count": 19,
   "id": "788abe73-b61b-401d-8da3-bc6450734f32",
   "metadata": {},
   "outputs": [
    {
     "name": "stdout",
     "output_type": "stream",
     "text": [
      "{1, 2, 3, 4, 5, 6}\n"
     ]
    }
   ],
   "source": [
    "#14. Create a set from a list.\n",
    "lst=[1,2,3,4,5,6]\n",
    "\n",
    "set7=set(lst)\n",
    "print(set7)"
   ]
  },
  {
   "cell_type": "code",
   "execution_count": 20,
   "id": "bd0a93e4-9db8-46b7-aacf-08a74aa7a333",
   "metadata": {},
   "outputs": [
    {
     "name": "stdout",
     "output_type": "stream",
     "text": [
      "[2, 3, 4, 5, 6, 7, 8, 9]\n"
     ]
    }
   ],
   "source": [
    "#15. Convert a set to a list.\n",
    "set7={2,3,4,5,6,7,8,8,8,8,9}\n",
    "\n",
    "lst=list(set7)\n",
    "\n",
    "print(lst)"
   ]
  },
  {
   "cell_type": "code",
   "execution_count": 52,
   "id": "6510498d-d7e5-4d5d-a12e-e455af332527",
   "metadata": {},
   "outputs": [
    {
     "name": "stdout",
     "output_type": "stream",
     "text": [
      "Removed element: 7\n",
      "Updated set: {1, 2, 4, 5, 6, 8, 9, 88}\n"
     ]
    }
   ],
   "source": [
    "#16. Remove a random element from a set.\n",
    "import random\n",
    "\n",
    "my_set={1,2,4,5,6,7,8,9,88}\n",
    "\n",
    "if my_set:\n",
    "    # Use random.choice method to select random element\n",
    "    removed_element=random.choice(list(my_set))\n",
    "    my_set.remove(removed_element)\n",
    "    print(f\"Removed element: {removed_element}\")\n",
    "else:\n",
    "    print('The set is empty.')\n",
    "print(f\"Updated set: {my_set}\")"
   ]
  },
  {
   "cell_type": "code",
   "execution_count": 47,
   "id": "0299127a-2eda-459c-86aa-7e238eee9ee2",
   "metadata": {},
   "outputs": [
    {
     "name": "stdout",
     "output_type": "stream",
     "text": [
      "{3, 4, 5, 6, 7, 8}\n"
     ]
    }
   ],
   "source": [
    "#17. Pop an element from a set.\n",
    "set2={2,3,4,5,6,7,8}\n",
    "set2.pop()\n",
    "print(set2)"
   ]
  },
  {
   "cell_type": "code",
   "execution_count": 57,
   "id": "8d8bf702-e497-44f9-936b-eaf6945fba08",
   "metadata": {},
   "outputs": [
    {
     "name": "stdout",
     "output_type": "stream",
     "text": [
      "The sets have common elements: {3, 4, 5}\n"
     ]
    }
   ],
   "source": [
    "#18. Check if two sets have no elements in common.\n",
    "set2={1,2,3,4,5,6,7,8,9}\n",
    "set8={3,4,5,99,88,77}\n",
    "\n",
    "common=set2.intersection(set8)\n",
    "if common:\n",
    "    print(f\"The sets have common elements: {common}\")\n",
    "else:\n",
    "    print('The sets not have common elements.')"
   ]
  },
  {
   "cell_type": "code",
   "execution_count": 60,
   "id": "e4f64ddc-936b-4bd2-bcc4-0e19bc80678b",
   "metadata": {},
   "outputs": [
    {
     "name": "stdout",
     "output_type": "stream",
     "text": [
      "{1, 2, 99, 6, 7, 8, 9, 77, 88}\n"
     ]
    }
   ],
   "source": [
    "#19. Find the symmetric difference between two sets.\n",
    "set2={1,2,3,4,5,6,7,8,9}\n",
    "set8={3,4,5,99,88,77}\n",
    "symmetric_diff=set2.symmetric_difference(set8)\n",
    "print(symmetric_diff)"
   ]
  },
  {
   "cell_type": "code",
   "execution_count": 46,
   "id": "4e2fa834-20bf-4c15-8f95-1c8220d0b21b",
   "metadata": {},
   "outputs": [
    {
     "name": "stdout",
     "output_type": "stream",
     "text": [
      "The updated set7 is: {1, 66, 4, 5, 6, 7, 9, 77, 55, 23, 90}\n"
     ]
    }
   ],
   "source": [
    "#20. Update a set with elements from another set.\n",
    "set7={1,23,4,5,6,7,9}\n",
    "set9={1,55,66,77,90}\n",
    "\n",
    "set7.update(set9)\n",
    "print('The updated set7 is:', set7)"
   ]
  },
  {
   "cell_type": "code",
   "execution_count": 47,
   "id": "4b2c1d24-dc47-4ee2-a85b-d89acb73c339",
   "metadata": {},
   "outputs": [
    {
     "name": "stdout",
     "output_type": "stream",
     "text": [
      "{2, 3, 5, 7, 11}\n"
     ]
    }
   ],
   "source": [
    "#21. Create a set of the first 5 prime numbers.\n",
    "def is_prime(n):\n",
    "    if n<=1:\n",
    "        return False\n",
    "    elif n<=3:\n",
    "        return True\n",
    "    elif n%2 ==0 or n%3 ==0:\n",
    "        return False\n",
    "    i=5\n",
    "    while i*i<=n:\n",
    "        if n% i==0 or n% (i+2)==0:\n",
    "            return False\n",
    "        i+=6\n",
    "    return True\n",
    "\n",
    "def generate_first_n_primes(n):\n",
    "    primes=set()\n",
    "    num=2 # Start with the first prime number,2\n",
    "    while len(primes)<n:\n",
    "        if is_prime(num):\n",
    "            primes.add(num)\n",
    "            \n",
    "        num+=1\n",
    "    return primes\n",
    "# Generate the first 5 prime numbers\n",
    "first_5_primes=generate_first_n_primes(5)\n",
    "print(first_5_primes)"
   ]
  },
  {
   "cell_type": "code",
   "execution_count": 56,
   "id": "4ab14779-66a9-42cb-a7ad-09aebaf42fc6",
   "metadata": {},
   "outputs": [
    {
     "name": "stdout",
     "output_type": "stream",
     "text": [
      "The sets are identical.\n"
     ]
    }
   ],
   "source": [
    "#22. Check if two sets are identical.\n",
    "set5={2,3,4,5,6,7}\n",
    "set8={2,3,4,5,6,7}\n",
    "\n",
    "if set5==set8:\n",
    "    print('The sets are identical.')\n",
    "else:\n",
    "    print('The sets are not identical.')"
   ]
  },
  {
   "cell_type": "code",
   "execution_count": 1,
   "id": "59814853-7048-438a-a661-a3ed4f2f599f",
   "metadata": {},
   "outputs": [
    {
     "name": "stdout",
     "output_type": "stream",
     "text": [
      "frozenset({1, 2, 3, 4, 5, 6, 7})\n"
     ]
    }
   ],
   "source": [
    "#23. Create a frozen set.\n",
    "my_set={1,2,3,4,5,6,7}\n",
    "#  A frozen set is an immutable version of a set.\n",
    "frozen_set=frozenset(my_set)\n",
    "\n",
    "print(frozen_set)"
   ]
  },
  {
   "cell_type": "code",
   "execution_count": 4,
   "id": "7ba75189-5b60-452b-845c-a1c2038786db",
   "metadata": {},
   "outputs": [
    {
     "name": "stdout",
     "output_type": "stream",
     "text": [
      "The sets are disjoint\n"
     ]
    }
   ],
   "source": [
    "#24. Check if a set is disjoint with another set.\n",
    "set1={1,2,3,4,5}\n",
    "set2={6,7,8,9,0}\n",
    "\n",
    "if set1.isdisjoint(set2):\n",
    "    print('The sets are disjoint')\n",
    "else:\n",
    "    print('The sets have common elements.')"
   ]
  },
  {
   "cell_type": "code",
   "execution_count": 6,
   "id": "7c3f9c10-fff8-4931-bfb0-a90c9c86d20e",
   "metadata": {},
   "outputs": [
    {
     "name": "stdout",
     "output_type": "stream",
     "text": [
      "{1, 4, 9, 16, 25}\n"
     ]
    }
   ],
   "source": [
    "#25. Create a set of squares of numbers from 1 to 5.\n",
    "# use set-comprehension.\n",
    "\n",
    "square_set={i**2 for i in range(1,6)}\n",
    "print(square_set)"
   ]
  },
  {
   "cell_type": "code",
   "execution_count": 7,
   "id": "f422693b-b7f2-4625-bc3a-4dc92294717a",
   "metadata": {},
   "outputs": [
    {
     "name": "stdout",
     "output_type": "stream",
     "text": [
      "{1, 33, 3, 5, 7, 9, 55}\n"
     ]
    }
   ],
   "source": [
    "#26. Filter out all even numbers from a set.\n",
    "num_set={1,2,3,2,4,6,7,8,9,0,8,7,6,5,5,55,33}\n",
    "# set-comprehension\n",
    "\n",
    "odd_set={i for i in num_set if i%2!=0}\n",
    "\n",
    "print(odd_set)"
   ]
  },
  {
   "cell_type": "code",
   "execution_count": 8,
   "id": "03fbdde5-dc40-4f87-b5e7-654f06bea2a7",
   "metadata": {},
   "outputs": [
    {
     "name": "stdout",
     "output_type": "stream",
     "text": [
      "{2, 4, 6, 8, 12, 14, 16}\n"
     ]
    }
   ],
   "source": [
    "#27. Multiply all elements in a set by 2.\n",
    "set3={1,2,3,4,6,7,8}\n",
    "\n",
    "multi_set={i*2for i in set3}\n",
    "\n",
    "print(multi_set)"
   ]
  },
  {
   "cell_type": "code",
   "execution_count": 19,
   "id": "ed68241b-c1cf-4c18-9a18-9b9dcd7d6932",
   "metadata": {},
   "outputs": [
    {
     "name": "stdout",
     "output_type": "stream",
     "text": [
      "The random number set is:\n",
      "{33, 98, 40, 9, 8, 80, 19, 20, 57, 30}\n"
     ]
    }
   ],
   "source": [
    "#28. Create a set of random numbers.\n",
    "import random\n",
    "\n",
    "# Generate a set of 5 random integers between 1 to 100\n",
    "random_set=set()\n",
    "for _ in range(10):\n",
    "    random_num=random.randint(1,100)\n",
    "    random_set.add(random_num)\n",
    "print('The random number set is:')\n",
    "print(random_set)"
   ]
  },
  {
   "cell_type": "code",
   "execution_count": 29,
   "id": "54bcb9ac-120a-49ef-a357-cc955d899604",
   "metadata": {},
   "outputs": [
    {
     "name": "stdout",
     "output_type": "stream",
     "text": [
      "The set is empty.\n"
     ]
    }
   ],
   "source": [
    "#29. Check if a set is empty.\n",
    "empty_set=set() # Create an empty set\n",
    "if not empty_set:\n",
    "    print('The set is empty.')\n",
    "else:\n",
    "    print('The set is not empty.')"
   ]
  },
  {
   "cell_type": "code",
   "execution_count": 33,
   "id": "5b196540-fd88-48ab-9ecb-c842033a7eb3",
   "metadata": {},
   "outputs": [
    {
     "name": "stdout",
     "output_type": "stream",
     "text": [
      "{frozenset({1, 2, 3}), frozenset({0, 1, 5, 8, 9}), frozenset({5, 6, 7})}\n"
     ]
    }
   ],
   "source": [
    "#30. Create a nested set (hint: use frozenset.)\n",
    "nested_set={frozenset({1,2,3}), frozenset({5,6,7}), frozenset({1,5,8,9,0})}\n",
    "\n",
    "print(nested_set)"
   ]
  },
  {
   "cell_type": "code",
   "execution_count": 38,
   "id": "fd8f1b32-066a-4372-bf4d-69ea79a4994e",
   "metadata": {},
   "outputs": [
    {
     "name": "stdout",
     "output_type": "stream",
     "text": [
      "{1, 2, 3, 4, 5, 6}\n"
     ]
    }
   ],
   "source": [
    "#31. Remove an element from a set using the discard method.\n",
    "my_set={1,2,3,4,5,6,7}\n",
    "\n",
    "# Remove an element using the discard() method\n",
    "\n",
    "my_set.discard(7)\n",
    "print(my_set)"
   ]
  },
  {
   "cell_type": "code",
   "execution_count": 39,
   "id": "f164c1c8-62cd-4704-868f-7e354f0ceb56",
   "metadata": {},
   "outputs": [
    {
     "name": "stdout",
     "output_type": "stream",
     "text": [
      "set4 and set8 are not equal.\n",
      "The set8 is subset or equal to set4.\n",
      "The set8 is proper subset of set4.\n",
      "The set8 is not superset of set4.\n",
      "The set8 is not proper superset of set4.\n",
      "The set8 is not equal to set4.\n"
     ]
    }
   ],
   "source": [
    "#32. Compare two sets.\n",
    "set4={1,23,3,4,5,6,7,8}\n",
    "set8={1,3,4,5}\n",
    "\n",
    "# Equality\n",
    "if set8==set4:\n",
    "    print('set4 and set8 are equal.')\n",
    "else:\n",
    "    print('set4 and set8 are not equal.')\n",
    "    \n",
    "# Subset\n",
    "if set8<=set4:\n",
    "    print('The set8 is subset or equal to set4.')\n",
    "else:\n",
    "    print('The set8 is not subset of set4.')\n",
    "# Proper subset\n",
    "if set8<set4:\n",
    "    print('The set8 is proper subset of set4.')\n",
    "else:\n",
    "    print('The set8 is not proper subset of set4.')\n",
    "# superset \n",
    "if set8>=set4:\n",
    "    print('The set8 is superset or equal to set4.')\n",
    "else:\n",
    "    print('The set8 is not superset of set4.')\n",
    "# Proper superset\n",
    "if set8>set4:\n",
    "    print('The set8 is proper superset of set4.')\n",
    "else:\n",
    "    print('The set8 is not proper superset of set4.')\n",
    "# Inequality\n",
    "\n",
    "if set8!=set4:\n",
    "    print('The set8 is not equal to set4.')\n",
    "else:\n",
    "    print('The set8 and set4 are equal.')"
   ]
  },
  {
   "cell_type": "code",
   "execution_count": 40,
   "id": "ef19dc6f-98db-4a00-a4c2-fb4bc5fe4620",
   "metadata": {},
   "outputs": [
    {
     "name": "stdout",
     "output_type": "stream",
     "text": [
      "{'h', 'd', ' ', 'n', 'k', 'a', 'g', 'e', 's', 'r'}\n"
     ]
    }
   ],
   "source": [
    "#33. Create a set from a string.\n",
    "string='nagsen khandare'\n",
    "\n",
    "create_set=set(string)\n",
    "print(create_set)"
   ]
  },
  {
   "cell_type": "code",
   "execution_count": 43,
   "id": "c66f6892-7144-4c0d-a654-25d2f486c279",
   "metadata": {},
   "outputs": [
    {
     "name": "stdout",
     "output_type": "stream",
     "text": [
      "{1, 2, 3, 4, 5, 6, 7, 8, 9}\n"
     ]
    }
   ],
   "source": [
    "#34. Convert a set of strings to a set of integers.\n",
    "str_set={'1','2','3','4','5','6','7','8','9'}\n",
    "# Use set-comprehesion\n",
    "int_set=set(int(s) for s in str_set)\n",
    "print(int_set)"
   ]
  },
  {
   "cell_type": "code",
   "execution_count": 44,
   "id": "ea21df82-b202-450b-98a8-b2c44f1f8a9c",
   "metadata": {},
   "outputs": [
    {
     "name": "stdout",
     "output_type": "stream",
     "text": [
      "{'7', '6', '8', '5', '0', '1', '2', '3', '4'}\n"
     ]
    }
   ],
   "source": [
    "#35. Convert a set of integers to a set of string.\n",
    "int_set={1,2,3,4,5,6,7,8,0}\n",
    "# Use set comprehension\n",
    "\n",
    "str_set={str(num) for num in int_set}\n",
    "\n",
    "print(str_set)"
   ]
  },
  {
   "cell_type": "code",
   "execution_count": 45,
   "id": "2efd26cd-d074-48de-840a-25d792a4efaa",
   "metadata": {},
   "outputs": [
    {
     "name": "stdout",
     "output_type": "stream",
     "text": [
      "{1, 2, 3, 'nag', 'sen', 'pr'}\n"
     ]
    }
   ],
   "source": [
    "#36. Create a set from a tuple.\n",
    "tuple3=(1,2,3,'nag','sen','pr')\n",
    "\n",
    "create_set=set(tuple3)\n",
    "print(create_set)"
   ]
  },
  {
   "cell_type": "code",
   "execution_count": 46,
   "id": "1cab4458-0395-4092-bd26-3f26dc15fbb8",
   "metadata": {},
   "outputs": [
    {
     "name": "stdout",
     "output_type": "stream",
     "text": [
      "(1, 2, 3, 4, 'pro', 'sen', 'nag')\n"
     ]
    }
   ],
   "source": [
    "#37. Convert a set to a tuple.\n",
    "set8={1,2,3,4,'nag','sen','pro'}\n",
    "\n",
    "create_tuple=tuple(set8)\n",
    "print(create_tuple)"
   ]
  },
  {
   "cell_type": "code",
   "execution_count": 3,
   "id": "f8d00e0b-ae47-4643-9329-e120a07f8b53",
   "metadata": {},
   "outputs": [
    {
     "name": "stdout",
     "output_type": "stream",
     "text": [
      "The maximum value in a set:\n"
     ]
    },
    {
     "data": {
      "text/plain": [
       "99"
      ]
     },
     "execution_count": 3,
     "metadata": {},
     "output_type": "execute_result"
    }
   ],
   "source": [
    "#38. Find the maximum value in a set.\n",
    "set3={1,2,3,4,5,6,7,8,88,9,99}\n",
    "print('The maximum value in a set:')\n",
    "max(set3)"
   ]
  },
  {
   "cell_type": "code",
   "execution_count": 4,
   "id": "e630bb60-e2fb-48cc-a289-eea8eee262ff",
   "metadata": {},
   "outputs": [
    {
     "name": "stdout",
     "output_type": "stream",
     "text": [
      "The minimum value in a set:\n"
     ]
    },
    {
     "data": {
      "text/plain": [
       "1"
      ]
     },
     "execution_count": 4,
     "metadata": {},
     "output_type": "execute_result"
    }
   ],
   "source": [
    "#39. Find the minimum value in a set.\n",
    "set88={1,2,3,4,55}\n",
    "print('The minimum value in a set:')\n",
    "min(set88)"
   ]
  },
  {
   "cell_type": "code",
   "execution_count": 10,
   "id": "3d889bf4-a180-4526-a492-e1f162c1c7d0",
   "metadata": {},
   "outputs": [
    {
     "name": "stdin",
     "output_type": "stream",
     "text": [
      "Enter an element (or press Enter to finish: 1\n",
      "Enter an element (or press Enter to finish: 3\n",
      "Enter an element (or press Enter to finish: 4\n",
      "Enter an element (or press Enter to finish: 6\n",
      "Enter an element (or press Enter to finish: 7\n",
      "Enter an element (or press Enter to finish: 9\n",
      "Enter an element (or press Enter to finish: 0\n",
      "Enter an element (or press Enter to finish: 77\n",
      "Enter an element (or press Enter to finish: 99\n",
      "Enter an element (or press Enter to finish: nag\n",
      "Enter an element (or press Enter to finish: sen\n",
      "Enter an element (or press Enter to finish: data\n",
      "Enter an element (or press Enter to finish: pro\n",
      "Enter an element (or press Enter to finish: science\n",
      "Enter an element (or press Enter to finish: analyst\n",
      "Enter an element (or press Enter to finish: \n"
     ]
    },
    {
     "name": "stdout",
     "output_type": "stream",
     "text": [
      "The set you created: {'77', '99', '3', '1', 'data', 'science', 'pro', 'analyst', '6', '4', 'sen', '0', '7', '9', 'nag'}\n"
     ]
    }
   ],
   "source": [
    "#40. Create a set from user input.\n",
    "# Initialize an empty set\n",
    "\n",
    "user_set=set()\n",
    "\n",
    "# Ask the user for input until they press Enter without typing anything\n",
    "while True:\n",
    "    user_input=input('Enter an element (or press Enter to finish:')\n",
    "    \n",
    "    # Check if the user pressed Enter without typing anything\n",
    "    if not user_input:\n",
    "        break\n",
    "    # Add the user input to the set \n",
    "    user_set.add(user_input)\n",
    "print('The set you created:',user_set)"
   ]
  },
  {
   "cell_type": "code",
   "execution_count": 13,
   "id": "e759aa9c-affe-42dc-a14f-2df2cba71d77",
   "metadata": {},
   "outputs": [
    {
     "name": "stdout",
     "output_type": "stream",
     "text": [
      "The intersection of two sets is empty.\n"
     ]
    }
   ],
   "source": [
    "#41. Check if the intersection of two sets is empty.\n",
    "set1={1,2,3,4,5,6,7}\n",
    "set2={8,9,0,11,12,14,15}\n",
    "\n",
    "if not set1.intersection(set2):\n",
    "    print('The intersection of two sets is empty.')\n",
    "    \n",
    "else:\n",
    "    print('The intersection of two sets is not empty.')"
   ]
  },
  {
   "cell_type": "code",
   "execution_count": 23,
   "id": "a174790b-10d5-4bcf-885a-487f24acf47d",
   "metadata": {},
   "outputs": [
    {
     "name": "stdout",
     "output_type": "stream",
     "text": [
      "{0, 1, 2, 3, 5}\n"
     ]
    }
   ],
   "source": [
    "#42. Create a set of the first 5 Fibonacci numbers.\n",
    "\n",
    "def generate_fibonacci(n):\n",
    "    fibonacci_set=set()\n",
    "    a,b=0,1\n",
    "    for _ in range(n+1):\n",
    "        fibonacci_set.add(a)\n",
    "        a,b=b,a+b\n",
    "    return fibonacci_set\n",
    "\n",
    "# Generate a set of the first 5 Fobonacci numbers\n",
    "fibonacci_numbers=generate_fibonacci(5)\n",
    "print(fibonacci_numbers)"
   ]
  },
  {
   "cell_type": "code",
   "execution_count": 26,
   "id": "39cb666f-1396-4556-982b-05bae5f0206f",
   "metadata": {},
   "outputs": [
    {
     "name": "stdout",
     "output_type": "stream",
     "text": [
      "The list without duplicates:\n",
      "[1, 2, 3, 4, 6, 7, 8, 44]\n"
     ]
    }
   ],
   "source": [
    "#43. Remove duplicates from a list using sets.\n",
    "lst=[1,2,3,44,4,4,3,3,6,7,8,8]\n",
    "list_without_duplicate=list(set(lst))\n",
    "print('The list without duplicates:')\n",
    "print(list_without_duplicate)"
   ]
  },
  {
   "cell_type": "code",
   "execution_count": 2,
   "id": "2d7b9174-0fba-49c8-88f4-ac5157153f96",
   "metadata": {},
   "outputs": [
    {
     "name": "stdout",
     "output_type": "stream",
     "text": [
      "The sets do not have the same elements.\n"
     ]
    }
   ],
   "source": [
    "#44. Check if two sets have the same elements, regardless of their count.\n",
    "set1={1,2,3,4,5}\n",
    "set2={1,2,3,4,5,44,3,4,5,}\n",
    "\n",
    "# Check if the sets have the same elements\n",
    "if set1==set2:\n",
    "    print('The sets have the same elements, regardless of their count.')\n",
    "else:\n",
    "    print('The sets do not have the same elements.')"
   ]
  },
  {
   "cell_type": "code",
   "execution_count": 6,
   "id": "1723241b-90d1-49b9-9617-8844f4f00fcc",
   "metadata": {},
   "outputs": [
    {
     "name": "stdout",
     "output_type": "stream",
     "text": [
      "{1, 2, 4, 8, 16}\n"
     ]
    }
   ],
   "source": [
    "#45. Create a set of the first 'n' powers of 2.\n",
    "def generate_powers_of_2(n):\n",
    "    powers_set=set()\n",
    "    power=1\n",
    "    for _ in range(n):\n",
    "        powers_set.add(power)\n",
    "        power*=2\n",
    "    return powers_set\n",
    "\n",
    "# Generate the first 5 powers of 2 \n",
    "first_5_powers_of_2=generate_powers_of_2(5)\n",
    "print(first_5_powers_of_2)"
   ]
  },
  {
   "cell_type": "code",
   "execution_count": 9,
   "id": "8c8ff174-3272-466e-8fe5-d987c8d1438b",
   "metadata": {},
   "outputs": [
    {
     "name": "stdout",
     "output_type": "stream",
     "text": [
      "{3, 4, 5, 6}\n"
     ]
    }
   ],
   "source": [
    "#46. Find the common elements between a set and a list.\n",
    "my_set={1,2,3,4,5,6}\n",
    "my_list=[3,4,5,6,7,8,9,0]\n",
    "\n",
    "common_elements=my_set.intersection(my_list)\n",
    "print(common_elements)"
   ]
  },
  {
   "cell_type": "code",
   "execution_count": 1,
   "id": "e30f7d20-e312-4a16-973d-473ef0926d94",
   "metadata": {},
   "outputs": [
    {
     "name": "stdout",
     "output_type": "stream",
     "text": [
      "{1, 3, 6, 10, 15}\n"
     ]
    }
   ],
   "source": [
    "#47. Create a set of the first 'n' triangular numbers.\n",
    "def generate_triangular_numbers(n):\n",
    "    triangular_set=set()\n",
    "    triangular_number=0\n",
    "    for i in  range(1,n+1):\n",
    "        triangular_number+=i\n",
    "        triangular_set.add(triangular_number)\n",
    "    return triangular_set\n",
    "\n",
    "# generate first 5 triangular numbers\n",
    "first_5_triangular_numbers=generate_triangular_numbers(5)\n",
    "print(first_5_triangular_numbers)"
   ]
  },
  {
   "cell_type": "code",
   "execution_count": 17,
   "id": "ed662486-3535-4215-8bf4-4124242a2854",
   "metadata": {},
   "outputs": [
    {
     "name": "stdout",
     "output_type": "stream",
     "text": [
      "The set4 is subset of set3.\n"
     ]
    }
   ],
   "source": [
    "#48. Check if a set contains another set as a subset.\n",
    "\n",
    "set3={1,2,3,4,5,6,7,8,9}\n",
    "set4={2,3,5,9,1}\n",
    "is_subset=set4.issubset(set3)\n",
    "\n",
    "if is_subset:\n",
    "    print('The set4 is subset of set3.')\n",
    "else:\n",
    "    print('The set4 is not subset of set3.')"
   ]
  },
  {
   "cell_type": "code",
   "execution_count": 3,
   "id": "6043db88-f376-42da-bf2c-9904c78ea8a4",
   "metadata": {},
   "outputs": [
    {
     "name": "stdout",
     "output_type": "stream",
     "text": [
      "{0, 1}\n"
     ]
    }
   ],
   "source": [
    "#49. Create a set of alternating 1s and 0s of length 'n'.\n",
    "\n",
    "def alternating_ones_zeros(n):\n",
    "    sequence=[]\n",
    "    for i in range(n):\n",
    "        if i%2==0:\n",
    "            sequence.append(1)\n",
    "        else:\n",
    "            sequence.append(0)\n",
    "    return set(sequence)\n",
    "\n",
    "n=10\n",
    "# set will automatically remove the duplicates\n",
    "result=alternating_ones_zeros(n)\n",
    "print(result)"
   ]
  },
  {
   "cell_type": "code",
   "execution_count": 4,
   "id": "501438e2-0533-4fd5-85ea-6a1d9b58a681",
   "metadata": {},
   "outputs": [
    {
     "name": "stdout",
     "output_type": "stream",
     "text": [
      "{0, 1, 2, 3, 5, 6, 7, 8, 9}\n"
     ]
    }
   ],
   "source": [
    "#50. Merge multiple sets into one.\n",
    "\n",
    "# Create multiple sets\n",
    "\n",
    "set1={1,2,3,5}\n",
    "set2={5,6,7}\n",
    "set3={7,8,9,0}\n",
    "\n",
    "# Merge sets using union method\n",
    "merged_set=set1.union(set2,set3)\n",
    "print(merged_set)"
   ]
  },
  {
   "cell_type": "code",
   "execution_count": null,
   "id": "9acda984-2122-4bbc-a092-d7a9dbc1a458",
   "metadata": {},
   "outputs": [],
   "source": []
  }
 ],
 "metadata": {
  "kernelspec": {
   "display_name": "Python 3 (ipykernel)",
   "language": "python",
   "name": "python3"
  },
  "language_info": {
   "codemirror_mode": {
    "name": "ipython",
    "version": 3
   },
   "file_extension": ".py",
   "mimetype": "text/x-python",
   "name": "python",
   "nbconvert_exporter": "python",
   "pygments_lexer": "ipython3",
   "version": "3.10.8"
  }
 },
 "nbformat": 4,
 "nbformat_minor": 5
}
